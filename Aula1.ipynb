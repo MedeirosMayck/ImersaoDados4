{
  "nbformat": 4,
  "nbformat_minor": 0,
  "metadata": {
    "colab": {
      "name": "Aula1.ipynb",
      "provenance": [],
      "authorship_tag": "ABX9TyP5bHQxhZ553eCsphCV2tVZ",
      "include_colab_link": true
    },
    "kernelspec": {
      "name": "python3",
      "display_name": "Python 3"
    },
    "language_info": {
      "name": "python"
    }
  },
  "cells": [
    {
      "cell_type": "markdown",
      "metadata": {
        "id": "view-in-github",
        "colab_type": "text"
      },
      "source": [
        "<a href=\"https://colab.research.google.com/github/MedeirosMayck/ImersaoDados4/blob/main/Aula1.ipynb\" target=\"_parent\"><img src=\"https://colab.research.google.com/assets/colab-badge.svg\" alt=\"Open In Colab\"/></a>"
      ]
    },
    {
      "cell_type": "markdown",
      "source": [
        "#Imersão Dados 4\n",
        "\n",
        "1 - Realizar a média da metragem para cada um dos bairros (Paulo)\n",
        "\n",
        "2 - 2 formas de selecionar os dados por bairro (consultar os métodos na documentação do pandas) (Thiago)\n",
        "\n",
        "3 - Explorar alguns gráficos na documentação e aplicar nas demais colunas do DF, tentar colocar alguma conclusão (Thiago)\n",
        "\n",
        "4 - Pegar outros estatísticas dos dados, média, mediana, mim, max (Vivi)\n",
        "\n",
        "5 - Descobrir quais são os bairros que não tem nome de Rua. (Vivi)\n",
        "\n",
        "```\n",
        "# Isto está formatado como código\n",
        "```\n",
        "\n"
      ],
      "metadata": {
        "id": "DmVnUPh8MBJ-"
      }
    },
    {
      "cell_type": "code",
      "execution_count": null,
      "metadata": {
        "id": "kWLiZ4ueL-xz"
      },
      "outputs": [],
      "source": [
        "import pandas as pd\n"
      ]
    },
    {
      "cell_type": "code",
      "source": [
        "## Definição de variáveis\n",
        "UrlDados = \"https://gist.githubusercontent.com/tgcsantos/3bdb29eba6ce391e90df2b72205ba891/raw/22fa920e80c9fa209a9fccc8b52d74cc95d1599b/dados_imoveis.csv\"\n",
        "DadosBrutos = pd.read_csv(UrlDados)"
      ],
      "metadata": {
        "id": "NDe6OK7bMHFp"
      },
      "execution_count": null,
      "outputs": []
    },
    {
      "cell_type": "code",
      "source": [
        "DadosBrutos.head()"
      ],
      "metadata": {
        "colab": {
          "base_uri": "https://localhost:8080/",
          "height": 206
        },
        "id": "DhO1UIzQMe4V",
        "outputId": "3322d00a-bed8-4ae8-d007-1161de186e78"
      },
      "execution_count": null,
      "outputs": [
        {
          "output_type": "execute_result",
          "data": {
            "text/plain": [
              "                              Rua              Bairro     Cidade  Metragem  \\\n",
              "0           Avenida Itacira, 255    Planalto Paulista  São Paulo      1000   \n",
              "1  Rua Aurelia Perez Alvarez, 42   Jardim dos Estados  São Paulo       496   \n",
              "2                 Rua Alba Valdez     Jardim Reimberg  São Paulo       125   \n",
              "3                             NaN      Jardim Morumbi  São Paulo       310   \n",
              "4        Rua Tobias Barreto, 195                Mooca  São Paulo       100   \n",
              "\n",
              "   Quartos  Banheiros  Vagas         Valor  \n",
              "0        4          8      6  R$ 7.000.000  \n",
              "1        4          4      4  R$ 3.700.000  \n",
              "2        4          3      2    R$ 380.000  \n",
              "3        3          2      4    R$ 685.000  \n",
              "4        3          2      2    R$ 540.000  "
            ],
            "text/html": [
              "\n",
              "  <div id=\"df-01bf08cd-7feb-4b79-bb01-f5a16921b9b1\">\n",
              "    <div class=\"colab-df-container\">\n",
              "      <div>\n",
              "<style scoped>\n",
              "    .dataframe tbody tr th:only-of-type {\n",
              "        vertical-align: middle;\n",
              "    }\n",
              "\n",
              "    .dataframe tbody tr th {\n",
              "        vertical-align: top;\n",
              "    }\n",
              "\n",
              "    .dataframe thead th {\n",
              "        text-align: right;\n",
              "    }\n",
              "</style>\n",
              "<table border=\"1\" class=\"dataframe\">\n",
              "  <thead>\n",
              "    <tr style=\"text-align: right;\">\n",
              "      <th></th>\n",
              "      <th>Rua</th>\n",
              "      <th>Bairro</th>\n",
              "      <th>Cidade</th>\n",
              "      <th>Metragem</th>\n",
              "      <th>Quartos</th>\n",
              "      <th>Banheiros</th>\n",
              "      <th>Vagas</th>\n",
              "      <th>Valor</th>\n",
              "    </tr>\n",
              "  </thead>\n",
              "  <tbody>\n",
              "    <tr>\n",
              "      <th>0</th>\n",
              "      <td>Avenida Itacira, 255</td>\n",
              "      <td>Planalto Paulista</td>\n",
              "      <td>São Paulo</td>\n",
              "      <td>1000</td>\n",
              "      <td>4</td>\n",
              "      <td>8</td>\n",
              "      <td>6</td>\n",
              "      <td>R$ 7.000.000</td>\n",
              "    </tr>\n",
              "    <tr>\n",
              "      <th>1</th>\n",
              "      <td>Rua Aurelia Perez Alvarez, 42</td>\n",
              "      <td>Jardim dos Estados</td>\n",
              "      <td>São Paulo</td>\n",
              "      <td>496</td>\n",
              "      <td>4</td>\n",
              "      <td>4</td>\n",
              "      <td>4</td>\n",
              "      <td>R$ 3.700.000</td>\n",
              "    </tr>\n",
              "    <tr>\n",
              "      <th>2</th>\n",
              "      <td>Rua Alba Valdez</td>\n",
              "      <td>Jardim Reimberg</td>\n",
              "      <td>São Paulo</td>\n",
              "      <td>125</td>\n",
              "      <td>4</td>\n",
              "      <td>3</td>\n",
              "      <td>2</td>\n",
              "      <td>R$ 380.000</td>\n",
              "    </tr>\n",
              "    <tr>\n",
              "      <th>3</th>\n",
              "      <td>NaN</td>\n",
              "      <td>Jardim Morumbi</td>\n",
              "      <td>São Paulo</td>\n",
              "      <td>310</td>\n",
              "      <td>3</td>\n",
              "      <td>2</td>\n",
              "      <td>4</td>\n",
              "      <td>R$ 685.000</td>\n",
              "    </tr>\n",
              "    <tr>\n",
              "      <th>4</th>\n",
              "      <td>Rua Tobias Barreto, 195</td>\n",
              "      <td>Mooca</td>\n",
              "      <td>São Paulo</td>\n",
              "      <td>100</td>\n",
              "      <td>3</td>\n",
              "      <td>2</td>\n",
              "      <td>2</td>\n",
              "      <td>R$ 540.000</td>\n",
              "    </tr>\n",
              "  </tbody>\n",
              "</table>\n",
              "</div>\n",
              "      <button class=\"colab-df-convert\" onclick=\"convertToInteractive('df-01bf08cd-7feb-4b79-bb01-f5a16921b9b1')\"\n",
              "              title=\"Convert this dataframe to an interactive table.\"\n",
              "              style=\"display:none;\">\n",
              "        \n",
              "  <svg xmlns=\"http://www.w3.org/2000/svg\" height=\"24px\"viewBox=\"0 0 24 24\"\n",
              "       width=\"24px\">\n",
              "    <path d=\"M0 0h24v24H0V0z\" fill=\"none\"/>\n",
              "    <path d=\"M18.56 5.44l.94 2.06.94-2.06 2.06-.94-2.06-.94-.94-2.06-.94 2.06-2.06.94zm-11 1L8.5 8.5l.94-2.06 2.06-.94-2.06-.94L8.5 2.5l-.94 2.06-2.06.94zm10 10l.94 2.06.94-2.06 2.06-.94-2.06-.94-.94-2.06-.94 2.06-2.06.94z\"/><path d=\"M17.41 7.96l-1.37-1.37c-.4-.4-.92-.59-1.43-.59-.52 0-1.04.2-1.43.59L10.3 9.45l-7.72 7.72c-.78.78-.78 2.05 0 2.83L4 21.41c.39.39.9.59 1.41.59.51 0 1.02-.2 1.41-.59l7.78-7.78 2.81-2.81c.8-.78.8-2.07 0-2.86zM5.41 20L4 18.59l7.72-7.72 1.47 1.35L5.41 20z\"/>\n",
              "  </svg>\n",
              "      </button>\n",
              "      \n",
              "  <style>\n",
              "    .colab-df-container {\n",
              "      display:flex;\n",
              "      flex-wrap:wrap;\n",
              "      gap: 12px;\n",
              "    }\n",
              "\n",
              "    .colab-df-convert {\n",
              "      background-color: #E8F0FE;\n",
              "      border: none;\n",
              "      border-radius: 50%;\n",
              "      cursor: pointer;\n",
              "      display: none;\n",
              "      fill: #1967D2;\n",
              "      height: 32px;\n",
              "      padding: 0 0 0 0;\n",
              "      width: 32px;\n",
              "    }\n",
              "\n",
              "    .colab-df-convert:hover {\n",
              "      background-color: #E2EBFA;\n",
              "      box-shadow: 0px 1px 2px rgba(60, 64, 67, 0.3), 0px 1px 3px 1px rgba(60, 64, 67, 0.15);\n",
              "      fill: #174EA6;\n",
              "    }\n",
              "\n",
              "    [theme=dark] .colab-df-convert {\n",
              "      background-color: #3B4455;\n",
              "      fill: #D2E3FC;\n",
              "    }\n",
              "\n",
              "    [theme=dark] .colab-df-convert:hover {\n",
              "      background-color: #434B5C;\n",
              "      box-shadow: 0px 1px 3px 1px rgba(0, 0, 0, 0.15);\n",
              "      filter: drop-shadow(0px 1px 2px rgba(0, 0, 0, 0.3));\n",
              "      fill: #FFFFFF;\n",
              "    }\n",
              "  </style>\n",
              "\n",
              "      <script>\n",
              "        const buttonEl =\n",
              "          document.querySelector('#df-01bf08cd-7feb-4b79-bb01-f5a16921b9b1 button.colab-df-convert');\n",
              "        buttonEl.style.display =\n",
              "          google.colab.kernel.accessAllowed ? 'block' : 'none';\n",
              "\n",
              "        async function convertToInteractive(key) {\n",
              "          const element = document.querySelector('#df-01bf08cd-7feb-4b79-bb01-f5a16921b9b1');\n",
              "          const dataTable =\n",
              "            await google.colab.kernel.invokeFunction('convertToInteractive',\n",
              "                                                     [key], {});\n",
              "          if (!dataTable) return;\n",
              "\n",
              "          const docLinkHtml = 'Like what you see? Visit the ' +\n",
              "            '<a target=\"_blank\" href=https://colab.research.google.com/notebooks/data_table.ipynb>data table notebook</a>'\n",
              "            + ' to learn more about interactive tables.';\n",
              "          element.innerHTML = '';\n",
              "          dataTable['output_type'] = 'display_data';\n",
              "          await google.colab.output.renderOutput(dataTable, element);\n",
              "          const docLink = document.createElement('div');\n",
              "          docLink.innerHTML = docLinkHtml;\n",
              "          element.appendChild(docLink);\n",
              "        }\n",
              "      </script>\n",
              "    </div>\n",
              "  </div>\n",
              "  "
            ]
          },
          "metadata": {},
          "execution_count": 5
        }
      ]
    },
    {
      "cell_type": "code",
      "source": [
        "DadosBrutos.info()"
      ],
      "metadata": {
        "colab": {
          "base_uri": "https://localhost:8080/"
        },
        "id": "YzfxgMNtmKKd",
        "outputId": "227d2eba-5620-4b96-ade2-6f4983d7754f"
      },
      "execution_count": null,
      "outputs": [
        {
          "output_type": "stream",
          "name": "stdout",
          "text": [
            "<class 'pandas.core.frame.DataFrame'>\n",
            "RangeIndex: 10008 entries, 0 to 10007\n",
            "Data columns (total 8 columns):\n",
            " #   Column     Non-Null Count  Dtype \n",
            "---  ------     --------------  ----- \n",
            " 0   Rua        6574 non-null   object\n",
            " 1   Bairro     9996 non-null   object\n",
            " 2   Cidade     10008 non-null  object\n",
            " 3   Metragem   10008 non-null  int64 \n",
            " 4   Quartos    10008 non-null  int64 \n",
            " 5   Banheiros  10008 non-null  int64 \n",
            " 6   Vagas      10008 non-null  int64 \n",
            " 7   Valor      10008 non-null  object\n",
            "dtypes: int64(4), object(4)\n",
            "memory usage: 625.6+ KB\n"
          ]
        }
      ]
    },
    {
      "cell_type": "markdown",
      "source": [
        "#Desafio 1"
      ],
      "metadata": {
        "id": "h5tAvkmVQI54"
      }
    },
    {
      "cell_type": "code",
      "source": [
        "DadosBM = DadosBrutos[[\"Bairro\",\"Metragem\"]]"
      ],
      "metadata": {
        "id": "uiWj4XaSSTV4"
      },
      "execution_count": null,
      "outputs": []
    },
    {
      "cell_type": "code",
      "source": [
        "MeanBM = DadosBM.groupby(\"Bairro\").mean()\n",
        "print(MeanBM)"
      ],
      "metadata": {
        "colab": {
          "base_uri": "https://localhost:8080/"
        },
        "id": "LdVmVpmWNVph",
        "outputId": "362f7df4-ed7a-4463-d849-4a1edd5b34a9"
      },
      "execution_count": null,
      "outputs": [
        {
          "output_type": "stream",
          "name": "stdout",
          "text": [
            "                     Metragem\n",
            "Bairro                       \n",
            "Aclimação          253.056818\n",
            "Alto da Boa Vista  418.875000\n",
            "Alto da Lapa       294.337209\n",
            "Alto da Mooca      270.050000\n",
            "Alto de Pinheiros  433.444988\n",
            "...                       ...\n",
            "Vila Água Funda    152.200000\n",
            "Água Branca        191.000000\n",
            "Água Fria          165.416667\n",
            "Água Funda         139.000000\n",
            "Água Rasa          340.250000\n",
            "\n",
            "[701 rows x 1 columns]\n"
          ]
        }
      ]
    },
    {
      "cell_type": "code",
      "source": [
        "MeanBM.head(20).plot.bar()"
      ],
      "metadata": {
        "colab": {
          "base_uri": "https://localhost:8080/",
          "height": 418
        },
        "id": "yVYzoQcsROlJ",
        "outputId": "579f6fff-8e0f-485a-e1fd-a9b2a75d2c43"
      },
      "execution_count": null,
      "outputs": [
        {
          "output_type": "execute_result",
          "data": {
            "text/plain": [
              "<matplotlib.axes._subplots.AxesSubplot at 0x7f0bbf840c50>"
            ]
          },
          "metadata": {},
          "execution_count": 29
        },
        {
          "output_type": "display_data",
          "data": {
            "text/plain": [
              "<Figure size 432x288 with 1 Axes>"
            ],
            "image/png": "[encoded data removed]"
          },
          "metadata": {
            "needs_background": "light"
          }
        }
      ]
    },
    {
      "cell_type": "markdown",
      "source": [
        "#Desafio 2"
      ],
      "metadata": {
        "id": "UyW1uVxdTLtN"
      }
    },
    {
      "cell_type": "code",
      "source": [
        "DadosBrutos.groupby(\"Bairro\")"
      ],
      "metadata": {
        "colab": {
          "base_uri": "https://localhost:8080/"
        },
        "id": "9ThZNFXqTNEM",
        "outputId": "fd69050a-cbc2-4a69-9d00-4041046a1775"
      },
      "execution_count": null,
      "outputs": [
        {
          "output_type": "stream",
          "name": "stdout",
          "text": [
            "<pandas.core.groupby.generic.DataFrameGroupBy object at 0x7f0bbf741a10>\n"
          ]
        }
      ]
    },
    {
      "cell_type": "code",
      "source": [
        "DadosBrutos.sort_values(by=[\"Bairro\"])"
      ],
      "metadata": {
        "colab": {
          "base_uri": "https://localhost:8080/",
          "height": 424
        },
        "id": "26KgJP2VTSDQ",
        "outputId": "9da71436-e045-4e8a-e9c2-7612cc8037ac"
      },
      "execution_count": null,
      "outputs": [
        {
          "output_type": "execute_result",
          "data": {
            "text/plain": [
              "                                              Rua     Bairro     Cidade  \\\n",
              "6201                         Rua Oliveira Peixoto  Aclimação  São Paulo   \n",
              "3748                          Rua Pais de Andrade  Aclimação  São Paulo   \n",
              "4264                           Rua Albina Barbosa  Aclimação  São Paulo   \n",
              "3737                      Rua Antero Mendes Leite  Aclimação  São Paulo   \n",
              "2764   Rua Doutor Rafael Caramuru Lanzelloti, 77   Aclimação  São Paulo   \n",
              "...                                           ...        ...        ...   \n",
              "8868         Rua Professor Eduardo Monteiro, 3773        NaN  São Paulo   \n",
              "8943                      Rua Santo Eufredo, 3773        NaN  São Paulo   \n",
              "8992         Rua Professor Eduardo Monteiro, 3773        NaN  São Paulo   \n",
              "9310  Rua Professor Lúcio Martins Rodrigues, 3773        NaN  São Paulo   \n",
              "9540                             Rua Pacobá, 3773        NaN  São Paulo   \n",
              "\n",
              "      Metragem  Quartos  Banheiros  Vagas  \\\n",
              "6201       120        3          3      8   \n",
              "3748       180        3          1      3   \n",
              "4264       130        2          3      2   \n",
              "3737       234        3          1      2   \n",
              "2764       205        2          1      1   \n",
              "...        ...      ...        ...    ...   \n",
              "8868       555        3          5      6   \n",
              "8943       846        4          8      8   \n",
              "8992       555        3          5      6   \n",
              "9310       358        4          6      7   \n",
              "9540      1009        5          6     10   \n",
              "\n",
              "                                      Valor  \n",
              "6201                           R$ 1.250.000  \n",
              "3748                           R$ 1.200.000  \n",
              "4264                           R$ 1.100.000  \n",
              "3737                           R$ 1.580.000  \n",
              "2764                             R$ 850.000  \n",
              "...                                     ...  \n",
              "8868                           R$ 4.000.000  \n",
              "8943  R$ 30.000\\n                      /Mês  \n",
              "8992                           R$ 4.000.000  \n",
              "9310                           R$ 1.600.000  \n",
              "9540                           R$ 6.400.000  \n",
              "\n",
              "[10008 rows x 8 columns]"
            ],
            "text/html": [
              "\n",
              "  <div id=\"df-49f88dfa-c06a-44fc-a9d1-f457bd66f4df\">\n",
              "    <div class=\"colab-df-container\">\n",
              "      <div>\n",
              "<style scoped>\n",
              "    .dataframe tbody tr th:only-of-type {\n",
              "        vertical-align: middle;\n",
              "    }\n",
              "\n",
              "    .dataframe tbody tr th {\n",
              "        vertical-align: top;\n",
              "    }\n",
              "\n",
              "    .dataframe thead th {\n",
              "        text-align: right;\n",
              "    }\n",
              "</style>\n",
              "<table border=\"1\" class=\"dataframe\">\n",
              "  <thead>\n",
              "    <tr style=\"text-align: right;\">\n",
              "      <th></th>\n",
              "      <th>Rua</th>\n",
              "      <th>Bairro</th>\n",
              "      <th>Cidade</th>\n",
              "      <th>Metragem</th>\n",
              "      <th>Quartos</th>\n",
              "      <th>Banheiros</th>\n",
              "      <th>Vagas</th>\n",
              "      <th>Valor</th>\n",
              "    </tr>\n",
              "  </thead>\n",
              "  <tbody>\n",
              "    <tr>\n",
              "      <th>6201</th>\n",
              "      <td>Rua Oliveira Peixoto</td>\n",
              "      <td>Aclimação</td>\n",
              "      <td>São Paulo</td>\n",
              "      <td>120</td>\n",
              "      <td>3</td>\n",
              "      <td>3</td>\n",
              "      <td>8</td>\n",
              "      <td>R$ 1.250.000</td>\n",
              "    </tr>\n",
              "    <tr>\n",
              "      <th>3748</th>\n",
              "      <td>Rua Pais de Andrade</td>\n",
              "      <td>Aclimação</td>\n",
              "      <td>São Paulo</td>\n",
              "      <td>180</td>\n",
              "      <td>3</td>\n",
              "      <td>1</td>\n",
              "      <td>3</td>\n",
              "      <td>R$ 1.200.000</td>\n",
              "    </tr>\n",
              "    <tr>\n",
              "      <th>4264</th>\n",
              "      <td>Rua Albina Barbosa</td>\n",
              "      <td>Aclimação</td>\n",
              "      <td>São Paulo</td>\n",
              "      <td>130</td>\n",
              "      <td>2</td>\n",
              "      <td>3</td>\n",
              "      <td>2</td>\n",
              "      <td>R$ 1.100.000</td>\n",
              "    </tr>\n",
              "    <tr>\n",
              "      <th>3737</th>\n",
              "      <td>Rua Antero Mendes Leite</td>\n",
              "      <td>Aclimação</td>\n",
              "      <td>São Paulo</td>\n",
              "      <td>234</td>\n",
              "      <td>3</td>\n",
              "      <td>1</td>\n",
              "      <td>2</td>\n",
              "      <td>R$ 1.580.000</td>\n",
              "    </tr>\n",
              "    <tr>\n",
              "      <th>2764</th>\n",
              "      <td>Rua Doutor Rafael Caramuru Lanzelloti, 77</td>\n",
              "      <td>Aclimação</td>\n",
              "      <td>São Paulo</td>\n",
              "      <td>205</td>\n",
              "      <td>2</td>\n",
              "      <td>1</td>\n",
              "      <td>1</td>\n",
              "      <td>R$ 850.000</td>\n",
              "    </tr>\n",
              "    <tr>\n",
              "      <th>...</th>\n",
              "      <td>...</td>\n",
              "      <td>...</td>\n",
              "      <td>...</td>\n",
              "      <td>...</td>\n",
              "      <td>...</td>\n",
              "      <td>...</td>\n",
              "      <td>...</td>\n",
              "      <td>...</td>\n",
              "    </tr>\n",
              "    <tr>\n",
              "      <th>8868</th>\n",
              "      <td>Rua Professor Eduardo Monteiro, 3773</td>\n",
              "      <td>NaN</td>\n",
              "      <td>São Paulo</td>\n",
              "      <td>555</td>\n",
              "      <td>3</td>\n",
              "      <td>5</td>\n",
              "      <td>6</td>\n",
              "      <td>R$ 4.000.000</td>\n",
              "    </tr>\n",
              "    <tr>\n",
              "      <th>8943</th>\n",
              "      <td>Rua Santo Eufredo, 3773</td>\n",
              "      <td>NaN</td>\n",
              "      <td>São Paulo</td>\n",
              "      <td>846</td>\n",
              "      <td>4</td>\n",
              "      <td>8</td>\n",
              "      <td>8</td>\n",
              "      <td>R$ 30.000\\n                      /Mês</td>\n",
              "    </tr>\n",
              "    <tr>\n",
              "      <th>8992</th>\n",
              "      <td>Rua Professor Eduardo Monteiro, 3773</td>\n",
              "      <td>NaN</td>\n",
              "      <td>São Paulo</td>\n",
              "      <td>555</td>\n",
              "      <td>3</td>\n",
              "      <td>5</td>\n",
              "      <td>6</td>\n",
              "      <td>R$ 4.000.000</td>\n",
              "    </tr>\n",
              "    <tr>\n",
              "      <th>9310</th>\n",
              "      <td>Rua Professor Lúcio Martins Rodrigues, 3773</td>\n",
              "      <td>NaN</td>\n",
              "      <td>São Paulo</td>\n",
              "      <td>358</td>\n",
              "      <td>4</td>\n",
              "      <td>6</td>\n",
              "      <td>7</td>\n",
              "      <td>R$ 1.600.000</td>\n",
              "    </tr>\n",
              "    <tr>\n",
              "      <th>9540</th>\n",
              "      <td>Rua Pacobá, 3773</td>\n",
              "      <td>NaN</td>\n",
              "      <td>São Paulo</td>\n",
              "      <td>1009</td>\n",
              "      <td>5</td>\n",
              "      <td>6</td>\n",
              "      <td>10</td>\n",
              "      <td>R$ 6.400.000</td>\n",
              "    </tr>\n",
              "  </tbody>\n",
              "</table>\n",
              "<p>10008 rows × 8 columns</p>\n",
              "</div>\n",
              "      <button class=\"colab-df-convert\" onclick=\"convertToInteractive('df-49f88dfa-c06a-44fc-a9d1-f457bd66f4df')\"\n",
              "              title=\"Convert this dataframe to an interactive table.\"\n",
              "              style=\"display:none;\">\n",
              "        \n",
              "  <svg xmlns=\"http://www.w3.org/2000/svg\" height=\"24px\"viewBox=\"0 0 24 24\"\n",
              "       width=\"24px\">\n",
              "    <path d=\"M0 0h24v24H0V0z\" fill=\"none\"/>\n",
              "    <path d=\"M18.56 5.44l.94 2.06.94-2.06 2.06-.94-2.06-.94-.94-2.06-.94 2.06-2.06.94zm-11 1L8.5 8.5l.94-2.06 2.06-.94-2.06-.94L8.5 2.5l-.94 2.06-2.06.94zm10 10l.94 2.06.94-2.06 2.06-.94-2.06-.94-.94-2.06-.94 2.06-2.06.94z\"/><path d=\"M17.41 7.96l-1.37-1.37c-.4-.4-.92-.59-1.43-.59-.52 0-1.04.2-1.43.59L10.3 9.45l-7.72 7.72c-.78.78-.78 2.05 0 2.83L4 21.41c.39.39.9.59 1.41.59.51 0 1.02-.2 1.41-.59l7.78-7.78 2.81-2.81c.8-.78.8-2.07 0-2.86zM5.41 20L4 18.59l7.72-7.72 1.47 1.35L5.41 20z\"/>\n",
              "  </svg>\n",
              "      </button>\n",
              "      \n",
              "  <style>\n",
              "    .colab-df-container {\n",
              "      display:flex;\n",
              "      flex-wrap:wrap;\n",
              "      gap: 12px;\n",
              "    }\n",
              "\n",
              "    .colab-df-convert {\n",
              "      background-color: #E8F0FE;\n",
              "      border: none;\n",
              "      border-radius: 50%;\n",
              "      cursor: pointer;\n",
              "      display: none;\n",
              "      fill: #1967D2;\n",
              "      height: 32px;\n",
              "      padding: 0 0 0 0;\n",
              "      width: 32px;\n",
              "    }\n",
              "\n",
              "    .colab-df-convert:hover {\n",
              "      background-color: #E2EBFA;\n",
              "      box-shadow: 0px 1px 2px rgba(60, 64, 67, 0.3), 0px 1px 3px 1px rgba(60, 64, 67, 0.15);\n",
              "      fill: #174EA6;\n",
              "    }\n",
              "\n",
              "    [theme=dark] .colab-df-convert {\n",
              "      background-color: #3B4455;\n",
              "      fill: #D2E3FC;\n",
              "    }\n",
              "\n",
              "    [theme=dark] .colab-df-convert:hover {\n",
              "      background-color: #434B5C;\n",
              "      box-shadow: 0px 1px 3px 1px rgba(0, 0, 0, 0.15);\n",
              "      filter: drop-shadow(0px 1px 2px rgba(0, 0, 0, 0.3));\n",
              "      fill: #FFFFFF;\n",
              "    }\n",
              "  </style>\n",
              "\n",
              "      <script>\n",
              "        const buttonEl =\n",
              "          document.querySelector('#df-49f88dfa-c06a-44fc-a9d1-f457bd66f4df button.colab-df-convert');\n",
              "        buttonEl.style.display =\n",
              "          google.colab.kernel.accessAllowed ? 'block' : 'none';\n",
              "\n",
              "        async function convertToInteractive(key) {\n",
              "          const element = document.querySelector('#df-49f88dfa-c06a-44fc-a9d1-f457bd66f4df');\n",
              "          const dataTable =\n",
              "            await google.colab.kernel.invokeFunction('convertToInteractive',\n",
              "                                                     [key], {});\n",
              "          if (!dataTable) return;\n",
              "\n",
              "          const docLinkHtml = 'Like what you see? Visit the ' +\n",
              "            '<a target=\"_blank\" href=https://colab.research.google.com/notebooks/data_table.ipynb>data table notebook</a>'\n",
              "            + ' to learn more about interactive tables.';\n",
              "          element.innerHTML = '';\n",
              "          dataTable['output_type'] = 'display_data';\n",
              "          await google.colab.output.renderOutput(dataTable, element);\n",
              "          const docLink = document.createElement('div');\n",
              "          docLink.innerHTML = docLinkHtml;\n",
              "          element.appendChild(docLink);\n",
              "        }\n",
              "      </script>\n",
              "    </div>\n",
              "  </div>\n",
              "  "
            ]
          },
          "metadata": {},
          "execution_count": 39
        }
      ]
    },
    {
      "cell_type": "markdown",
      "source": [
        "#Desafio 3"
      ],
      "metadata": {
        "id": "xf5NfxpMibks"
      }
    },
    {
      "cell_type": "code",
      "source": [
        "#Casas por Bairro\n",
        "DadosCB = DadosBrutos.value_counts(subset=\"Bairro\")\n",
        "print(DadosCB)"
      ],
      "metadata": {
        "colab": {
          "base_uri": "https://localhost:8080/"
        },
        "id": "mGR6lkTBqGrj",
        "outputId": "0baac134-60cb-4b28-b3c3-8051d2a60462"
      },
      "execution_count": null,
      "outputs": [
        {
          "output_type": "stream",
          "name": "stdout",
          "text": [
            "Bairro\n",
            "Alto de Pinheiros    409\n",
            "Jardim Guedala       403\n",
            "Jardim Paulista      309\n",
            "Brooklin Paulista    247\n",
            "Jardim Europa        240\n",
            "                    ... \n",
            "Vila Fernandes         1\n",
            "Vila Fiat Lux          1\n",
            "Educandário            1\n",
            "Vila Guaca             1\n",
            "Jardim Guapira         1\n",
            "Length: 701, dtype: int64\n"
          ]
        }
      ]
    },
    {
      "cell_type": "code",
      "source": [
        "DadosCB.head(20).plot.bar(ylabel=\"Casas a venda\",title=\"Casas a venda por bairro\")"
      ],
      "metadata": {
        "colab": {
          "base_uri": "https://localhost:8080/",
          "height": 389
        },
        "id": "LAxnMJguwLSC",
        "outputId": "964b27f1-dca9-40c7-87d5-fd93a51d4e44"
      },
      "execution_count": null,
      "outputs": [
        {
          "output_type": "execute_result",
          "data": {
            "text/plain": [
              "<matplotlib.axes._subplots.AxesSubplot at 0x7f0bab544750>"
            ]
          },
          "metadata": {},
          "execution_count": 101
        },
        {
          "output_type": "display_data",
          "data": {
            "text/plain": [
              "<Figure size 432x288 with 1 Axes>"
            ],
            "image/png": "[encoded data removed]"
          },
          "metadata": {
            "needs_background": "light"
          }
        }
      ]
    },
    {
      "cell_type": "markdown",
      "source": [
        "#Desafio 4"
      ],
      "metadata": {
        "id": "hMdOGuGOqHDK"
      }
    },
    {
      "cell_type": "code",
      "source": [
        "#Analisando melhor os dados de metragem por bairro\n",
        "DadosBM.dropna().groupby(\"Bairro\").describe(include = 'all')"
      ],
      "metadata": {
        "colab": {
          "base_uri": "https://localhost:8080/",
          "height": 486
        },
        "id": "A3nQdd-EqI7N",
        "outputId": "7cb6c551-e2db-4ad2-bf31-1b8da5bfd8e3"
      },
      "execution_count": null,
      "outputs": [
        {
          "output_type": "execute_result",
          "data": {
            "text/plain": [
              "                  Metragem                                                \\\n",
              "                     count        mean         std    min     25%    50%   \n",
              "Bairro                                                                     \n",
              "Aclimação             88.0  253.056818  159.140245  104.0  165.00  227.5   \n",
              "Alto da Boa Vista      8.0  418.875000  111.880596  315.0  347.50  378.0   \n",
              "Alto da Lapa          86.0  294.337209  187.674036   46.0  151.25  255.0   \n",
              "Alto da Mooca         20.0  270.050000  237.306924   84.0  133.75  182.5   \n",
              "Alto de Pinheiros    409.0  433.444988  145.676574  100.0  344.00  412.0   \n",
              "...                    ...         ...         ...    ...     ...    ...   \n",
              "Vila Água Funda        5.0  152.200000   44.353128   90.0  138.00  143.0   \n",
              "Água Branca           13.0  191.000000   91.045776   91.0  143.00  174.0   \n",
              "Água Fria             12.0  165.416667   82.934211   60.0   76.25  174.5   \n",
              "Água Funda             2.0  139.000000   19.798990  125.0  132.00  139.0   \n",
              "Água Rasa              8.0  340.250000  294.046036   86.0  172.50  180.0   \n",
              "\n",
              "                                   \n",
              "                      75%     max  \n",
              "Bairro                             \n",
              "Aclimação          300.00  1500.0  \n",
              "Alto da Boa Vista  448.75   595.0  \n",
              "Alto da Lapa       363.75  1133.0  \n",
              "Alto da Mooca      221.25   805.0  \n",
              "Alto de Pinheiros  505.00  1530.0  \n",
              "...                   ...     ...  \n",
              "Vila Água Funda    190.00   200.0  \n",
              "Água Branca        200.00   400.0  \n",
              "Água Fria          210.50   314.0  \n",
              "Água Funda         146.00   153.0  \n",
              "Água Rasa          455.75   805.0  \n",
              "\n",
              "[701 rows x 8 columns]"
            ],
            "text/html": [
              "\n",
              "  <div id=\"df-5c130447-0c71-43fc-9842-f555e67411f7\">\n",
              "    <div class=\"colab-df-container\">\n",
              "      <div>\n",
              "<style scoped>\n",
              "    .dataframe tbody tr th:only-of-type {\n",
              "        vertical-align: middle;\n",
              "    }\n",
              "\n",
              "    .dataframe tbody tr th {\n",
              "        vertical-align: top;\n",
              "    }\n",
              "\n",
              "    .dataframe thead tr th {\n",
              "        text-align: left;\n",
              "    }\n",
              "\n",
              "    .dataframe thead tr:last-of-type th {\n",
              "        text-align: right;\n",
              "    }\n",
              "</style>\n",
              "<table border=\"1\" class=\"dataframe\">\n",
              "  <thead>\n",
              "    <tr>\n",
              "      <th></th>\n",
              "      <th colspan=\"8\" halign=\"left\">Metragem</th>\n",
              "    </tr>\n",
              "    <tr>\n",
              "      <th></th>\n",
              "      <th>count</th>\n",
              "      <th>mean</th>\n",
              "      <th>std</th>\n",
              "      <th>min</th>\n",
              "      <th>25%</th>\n",
              "      <th>50%</th>\n",
              "      <th>75%</th>\n",
              "      <th>max</th>\n",
              "    </tr>\n",
              "    <tr>\n",
              "      <th>Bairro</th>\n",
              "      <th></th>\n",
              "      <th></th>\n",
              "      <th></th>\n",
              "      <th></th>\n",
              "      <th></th>\n",
              "      <th></th>\n",
              "      <th></th>\n",
              "      <th></th>\n",
              "    </tr>\n",
              "  </thead>\n",
              "  <tbody>\n",
              "    <tr>\n",
              "      <th>Aclimação</th>\n",
              "      <td>88.0</td>\n",
              "      <td>253.056818</td>\n",
              "      <td>159.140245</td>\n",
              "      <td>104.0</td>\n",
              "      <td>165.00</td>\n",
              "      <td>227.5</td>\n",
              "      <td>300.00</td>\n",
              "      <td>1500.0</td>\n",
              "    </tr>\n",
              "    <tr>\n",
              "      <th>Alto da Boa Vista</th>\n",
              "      <td>8.0</td>\n",
              "      <td>418.875000</td>\n",
              "      <td>111.880596</td>\n",
              "      <td>315.0</td>\n",
              "      <td>347.50</td>\n",
              "      <td>378.0</td>\n",
              "      <td>448.75</td>\n",
              "      <td>595.0</td>\n",
              "    </tr>\n",
              "    <tr>\n",
              "      <th>Alto da Lapa</th>\n",
              "      <td>86.0</td>\n",
              "      <td>294.337209</td>\n",
              "      <td>187.674036</td>\n",
              "      <td>46.0</td>\n",
              "      <td>151.25</td>\n",
              "      <td>255.0</td>\n",
              "      <td>363.75</td>\n",
              "      <td>1133.0</td>\n",
              "    </tr>\n",
              "    <tr>\n",
              "      <th>Alto da Mooca</th>\n",
              "      <td>20.0</td>\n",
              "      <td>270.050000</td>\n",
              "      <td>237.306924</td>\n",
              "      <td>84.0</td>\n",
              "      <td>133.75</td>\n",
              "      <td>182.5</td>\n",
              "      <td>221.25</td>\n",
              "      <td>805.0</td>\n",
              "    </tr>\n",
              "    <tr>\n",
              "      <th>Alto de Pinheiros</th>\n",
              "      <td>409.0</td>\n",
              "      <td>433.444988</td>\n",
              "      <td>145.676574</td>\n",
              "      <td>100.0</td>\n",
              "      <td>344.00</td>\n",
              "      <td>412.0</td>\n",
              "      <td>505.00</td>\n",
              "      <td>1530.0</td>\n",
              "    </tr>\n",
              "    <tr>\n",
              "      <th>...</th>\n",
              "      <td>...</td>\n",
              "      <td>...</td>\n",
              "      <td>...</td>\n",
              "      <td>...</td>\n",
              "      <td>...</td>\n",
              "      <td>...</td>\n",
              "      <td>...</td>\n",
              "      <td>...</td>\n",
              "    </tr>\n",
              "    <tr>\n",
              "      <th>Vila Água Funda</th>\n",
              "      <td>5.0</td>\n",
              "      <td>152.200000</td>\n",
              "      <td>44.353128</td>\n",
              "      <td>90.0</td>\n",
              "      <td>138.00</td>\n",
              "      <td>143.0</td>\n",
              "      <td>190.00</td>\n",
              "      <td>200.0</td>\n",
              "    </tr>\n",
              "    <tr>\n",
              "      <th>Água Branca</th>\n",
              "      <td>13.0</td>\n",
              "      <td>191.000000</td>\n",
              "      <td>91.045776</td>\n",
              "      <td>91.0</td>\n",
              "      <td>143.00</td>\n",
              "      <td>174.0</td>\n",
              "      <td>200.00</td>\n",
              "      <td>400.0</td>\n",
              "    </tr>\n",
              "    <tr>\n",
              "      <th>Água Fria</th>\n",
              "      <td>12.0</td>\n",
              "      <td>165.416667</td>\n",
              "      <td>82.934211</td>\n",
              "      <td>60.0</td>\n",
              "      <td>76.25</td>\n",
              "      <td>174.5</td>\n",
              "      <td>210.50</td>\n",
              "      <td>314.0</td>\n",
              "    </tr>\n",
              "    <tr>\n",
              "      <th>Água Funda</th>\n",
              "      <td>2.0</td>\n",
              "      <td>139.000000</td>\n",
              "      <td>19.798990</td>\n",
              "      <td>125.0</td>\n",
              "      <td>132.00</td>\n",
              "      <td>139.0</td>\n",
              "      <td>146.00</td>\n",
              "      <td>153.0</td>\n",
              "    </tr>\n",
              "    <tr>\n",
              "      <th>Água Rasa</th>\n",
              "      <td>8.0</td>\n",
              "      <td>340.250000</td>\n",
              "      <td>294.046036</td>\n",
              "      <td>86.0</td>\n",
              "      <td>172.50</td>\n",
              "      <td>180.0</td>\n",
              "      <td>455.75</td>\n",
              "      <td>805.0</td>\n",
              "    </tr>\n",
              "  </tbody>\n",
              "</table>\n",
              "<p>701 rows × 8 columns</p>\n",
              "</div>\n",
              "      <button class=\"colab-df-convert\" onclick=\"convertToInteractive('df-5c130447-0c71-43fc-9842-f555e67411f7')\"\n",
              "              title=\"Convert this dataframe to an interactive table.\"\n",
              "              style=\"display:none;\">\n",
              "        \n",
              "  <svg xmlns=\"http://www.w3.org/2000/svg\" height=\"24px\"viewBox=\"0 0 24 24\"\n",
              "       width=\"24px\">\n",
              "    <path d=\"M0 0h24v24H0V0z\" fill=\"none\"/>\n",
              "    <path d=\"M18.56 5.44l.94 2.06.94-2.06 2.06-.94-2.06-.94-.94-2.06-.94 2.06-2.06.94zm-11 1L8.5 8.5l.94-2.06 2.06-.94-2.06-.94L8.5 2.5l-.94 2.06-2.06.94zm10 10l.94 2.06.94-2.06 2.06-.94-2.06-.94-.94-2.06-.94 2.06-2.06.94z\"/><path d=\"M17.41 7.96l-1.37-1.37c-.4-.4-.92-.59-1.43-.59-.52 0-1.04.2-1.43.59L10.3 9.45l-7.72 7.72c-.78.78-.78 2.05 0 2.83L4 21.41c.39.39.9.59 1.41.59.51 0 1.02-.2 1.41-.59l7.78-7.78 2.81-2.81c.8-.78.8-2.07 0-2.86zM5.41 20L4 18.59l7.72-7.72 1.47 1.35L5.41 20z\"/>\n",
              "  </svg>\n",
              "      </button>\n",
              "      \n",
              "  <style>\n",
              "    .colab-df-container {\n",
              "      display:flex;\n",
              "      flex-wrap:wrap;\n",
              "      gap: 12px;\n",
              "    }\n",
              "\n",
              "    .colab-df-convert {\n",
              "      background-color: #E8F0FE;\n",
              "      border: none;\n",
              "      border-radius: 50%;\n",
              "      cursor: pointer;\n",
              "      display: none;\n",
              "      fill: #1967D2;\n",
              "      height: 32px;\n",
              "      padding: 0 0 0 0;\n",
              "      width: 32px;\n",
              "    }\n",
              "\n",
              "    .colab-df-convert:hover {\n",
              "      background-color: #E2EBFA;\n",
              "      box-shadow: 0px 1px 2px rgba(60, 64, 67, 0.3), 0px 1px 3px 1px rgba(60, 64, 67, 0.15);\n",
              "      fill: #174EA6;\n",
              "    }\n",
              "\n",
              "    [theme=dark] .colab-df-convert {\n",
              "      background-color: #3B4455;\n",
              "      fill: #D2E3FC;\n",
              "    }\n",
              "\n",
              "    [theme=dark] .colab-df-convert:hover {\n",
              "      background-color: #434B5C;\n",
              "      box-shadow: 0px 1px 3px 1px rgba(0, 0, 0, 0.15);\n",
              "      filter: drop-shadow(0px 1px 2px rgba(0, 0, 0, 0.3));\n",
              "      fill: #FFFFFF;\n",
              "    }\n",
              "  </style>\n",
              "\n",
              "      <script>\n",
              "        const buttonEl =\n",
              "          document.querySelector('#df-5c130447-0c71-43fc-9842-f555e67411f7 button.colab-df-convert');\n",
              "        buttonEl.style.display =\n",
              "          google.colab.kernel.accessAllowed ? 'block' : 'none';\n",
              "\n",
              "        async function convertToInteractive(key) {\n",
              "          const element = document.querySelector('#df-5c130447-0c71-43fc-9842-f555e67411f7');\n",
              "          const dataTable =\n",
              "            await google.colab.kernel.invokeFunction('convertToInteractive',\n",
              "                                                     [key], {});\n",
              "          if (!dataTable) return;\n",
              "\n",
              "          const docLinkHtml = 'Like what you see? Visit the ' +\n",
              "            '<a target=\"_blank\" href=https://colab.research.google.com/notebooks/data_table.ipynb>data table notebook</a>'\n",
              "            + ' to learn more about interactive tables.';\n",
              "          element.innerHTML = '';\n",
              "          dataTable['output_type'] = 'display_data';\n",
              "          await google.colab.output.renderOutput(dataTable, element);\n",
              "          const docLink = document.createElement('div');\n",
              "          docLink.innerHTML = docLinkHtml;\n",
              "          element.appendChild(docLink);\n",
              "        }\n",
              "      </script>\n",
              "    </div>\n",
              "  </div>\n",
              "  "
            ]
          },
          "metadata": {},
          "execution_count": 84
        }
      ]
    },
    {
      "cell_type": "markdown",
      "source": [
        "#Desafio 5"
      ],
      "metadata": {
        "id": "G4veRRUunNO-"
      }
    },
    {
      "cell_type": "code",
      "source": [
        "# Verificando quantos valores nulos existem no dataframe:\n",
        "DadosRB = DadosBrutos[[\"Rua\",\"Bairro\"]]\n",
        "DadosRB.isnull().value_counts()"
      ],
      "metadata": {
        "colab": {
          "base_uri": "https://localhost:8080/"
        },
        "id": "y3chJDZYU-q1",
        "outputId": "7ec388e6-6212-4f8d-cc11-6d7469951588"
      },
      "execution_count": null,
      "outputs": [
        {
          "output_type": "execute_result",
          "data": {
            "text/plain": [
              "Rua    Bairro\n",
              "False  False     6562\n",
              "True   False     3434\n",
              "False  True        12\n",
              "dtype: int64"
            ]
          },
          "metadata": {},
          "execution_count": 69
        }
      ]
    },
    {
      "cell_type": "markdown",
      "source": [
        "Existem 3434 bairros sem rua no data frame. Então vamos selecionar somente esses."
      ],
      "metadata": {
        "id": "nRGnoOMAnmrF"
      }
    },
    {
      "cell_type": "code",
      "source": [
        "# Selecionando Bairros com valores nulos\n",
        "RuaNula = DadosRB[DadosRB[\"Rua\"].isna()]\n",
        "print(RuaNula)"
      ],
      "metadata": {
        "colab": {
          "base_uri": "https://localhost:8080/"
        },
        "id": "TL3-vfsGimUk",
        "outputId": "7bf2fdc6-0ce4-43d0-b118-0a6e80670cab"
      },
      "execution_count": null,
      "outputs": [
        {
          "output_type": "stream",
          "name": "stdout",
          "text": [
            "      Rua                            Bairro\n",
            "3     NaN                    Jardim Morumbi\n",
            "11    NaN                  Jardim Luzitânia\n",
            "31    NaN                    Parque da Lapa\n",
            "56    NaN  Chácara Santo Antônio (Zona Sul)\n",
            "57    NaN                    Jardim Guedala\n",
            "...   ...                               ...\n",
            "9963  NaN                 Jardim Petrópolis\n",
            "9989  NaN              Parque Alves de Lima\n",
            "9991  NaN                      Vila Formosa\n",
            "9995  NaN                     Jardim Leonor\n",
            "9999  NaN                 Jardim Petrópolis\n",
            "\n",
            "[3434 rows x 2 columns]\n"
          ]
        }
      ]
    },
    {
      "cell_type": "code",
      "source": [
        "RuaNula.groupby(\"Bairro\").any()"
      ],
      "metadata": {
        "colab": {
          "base_uri": "https://localhost:8080/",
          "height": 455
        },
        "id": "M_2utpIXn9cQ",
        "outputId": "db0bd8fd-af10-45e8-8e3a-c09d3361dea5"
      },
      "execution_count": null,
      "outputs": [
        {
          "output_type": "execute_result",
          "data": {
            "text/plain": [
              "                     Rua\n",
              "Bairro                  \n",
              "Aclimação          False\n",
              "Alto da Boa Vista  False\n",
              "Alto da Lapa       False\n",
              "Alto da Mooca      False\n",
              "Alto de Pinheiros  False\n",
              "...                  ...\n",
              "Vila do Encontro   False\n",
              "Água Branca        False\n",
              "Água Fria          False\n",
              "Água Funda         False\n",
              "Água Rasa          False\n",
              "\n",
              "[394 rows x 1 columns]"
            ],
            "text/html": [
              "\n",
              "  <div id=\"df-5c1dbecb-7b0b-4f4c-9e77-a2c68b74de40\">\n",
              "    <div class=\"colab-df-container\">\n",
              "      <div>\n",
              "<style scoped>\n",
              "    .dataframe tbody tr th:only-of-type {\n",
              "        vertical-align: middle;\n",
              "    }\n",
              "\n",
              "    .dataframe tbody tr th {\n",
              "        vertical-align: top;\n",
              "    }\n",
              "\n",
              "    .dataframe thead th {\n",
              "        text-align: right;\n",
              "    }\n",
              "</style>\n",
              "<table border=\"1\" class=\"dataframe\">\n",
              "  <thead>\n",
              "    <tr style=\"text-align: right;\">\n",
              "      <th></th>\n",
              "      <th>Rua</th>\n",
              "    </tr>\n",
              "    <tr>\n",
              "      <th>Bairro</th>\n",
              "      <th></th>\n",
              "    </tr>\n",
              "  </thead>\n",
              "  <tbody>\n",
              "    <tr>\n",
              "      <th>Aclimação</th>\n",
              "      <td>False</td>\n",
              "    </tr>\n",
              "    <tr>\n",
              "      <th>Alto da Boa Vista</th>\n",
              "      <td>False</td>\n",
              "    </tr>\n",
              "    <tr>\n",
              "      <th>Alto da Lapa</th>\n",
              "      <td>False</td>\n",
              "    </tr>\n",
              "    <tr>\n",
              "      <th>Alto da Mooca</th>\n",
              "      <td>False</td>\n",
              "    </tr>\n",
              "    <tr>\n",
              "      <th>Alto de Pinheiros</th>\n",
              "      <td>False</td>\n",
              "    </tr>\n",
              "    <tr>\n",
              "      <th>...</th>\n",
              "      <td>...</td>\n",
              "    </tr>\n",
              "    <tr>\n",
              "      <th>Vila do Encontro</th>\n",
              "      <td>False</td>\n",
              "    </tr>\n",
              "    <tr>\n",
              "      <th>Água Branca</th>\n",
              "      <td>False</td>\n",
              "    </tr>\n",
              "    <tr>\n",
              "      <th>Água Fria</th>\n",
              "      <td>False</td>\n",
              "    </tr>\n",
              "    <tr>\n",
              "      <th>Água Funda</th>\n",
              "      <td>False</td>\n",
              "    </tr>\n",
              "    <tr>\n",
              "      <th>Água Rasa</th>\n",
              "      <td>False</td>\n",
              "    </tr>\n",
              "  </tbody>\n",
              "</table>\n",
              "<p>394 rows × 1 columns</p>\n",
              "</div>\n",
              "      <button class=\"colab-df-convert\" onclick=\"convertToInteractive('df-5c1dbecb-7b0b-4f4c-9e77-a2c68b74de40')\"\n",
              "              title=\"Convert this dataframe to an interactive table.\"\n",
              "              style=\"display:none;\">\n",
              "        \n",
              "  <svg xmlns=\"http://www.w3.org/2000/svg\" height=\"24px\"viewBox=\"0 0 24 24\"\n",
              "       width=\"24px\">\n",
              "    <path d=\"M0 0h24v24H0V0z\" fill=\"none\"/>\n",
              "    <path d=\"M18.56 5.44l.94 2.06.94-2.06 2.06-.94-2.06-.94-.94-2.06-.94 2.06-2.06.94zm-11 1L8.5 8.5l.94-2.06 2.06-.94-2.06-.94L8.5 2.5l-.94 2.06-2.06.94zm10 10l.94 2.06.94-2.06 2.06-.94-2.06-.94-.94-2.06-.94 2.06-2.06.94z\"/><path d=\"M17.41 7.96l-1.37-1.37c-.4-.4-.92-.59-1.43-.59-.52 0-1.04.2-1.43.59L10.3 9.45l-7.72 7.72c-.78.78-.78 2.05 0 2.83L4 21.41c.39.39.9.59 1.41.59.51 0 1.02-.2 1.41-.59l7.78-7.78 2.81-2.81c.8-.78.8-2.07 0-2.86zM5.41 20L4 18.59l7.72-7.72 1.47 1.35L5.41 20z\"/>\n",
              "  </svg>\n",
              "      </button>\n",
              "      \n",
              "  <style>\n",
              "    .colab-df-container {\n",
              "      display:flex;\n",
              "      flex-wrap:wrap;\n",
              "      gap: 12px;\n",
              "    }\n",
              "\n",
              "    .colab-df-convert {\n",
              "      background-color: #E8F0FE;\n",
              "      border: none;\n",
              "      border-radius: 50%;\n",
              "      cursor: pointer;\n",
              "      display: none;\n",
              "      fill: #1967D2;\n",
              "      height: 32px;\n",
              "      padding: 0 0 0 0;\n",
              "      width: 32px;\n",
              "    }\n",
              "\n",
              "    .colab-df-convert:hover {\n",
              "      background-color: #E2EBFA;\n",
              "      box-shadow: 0px 1px 2px rgba(60, 64, 67, 0.3), 0px 1px 3px 1px rgba(60, 64, 67, 0.15);\n",
              "      fill: #174EA6;\n",
              "    }\n",
              "\n",
              "    [theme=dark] .colab-df-convert {\n",
              "      background-color: #3B4455;\n",
              "      fill: #D2E3FC;\n",
              "    }\n",
              "\n",
              "    [theme=dark] .colab-df-convert:hover {\n",
              "      background-color: #434B5C;\n",
              "      box-shadow: 0px 1px 3px 1px rgba(0, 0, 0, 0.15);\n",
              "      filter: drop-shadow(0px 1px 2px rgba(0, 0, 0, 0.3));\n",
              "      fill: #FFFFFF;\n",
              "    }\n",
              "  </style>\n",
              "\n",
              "      <script>\n",
              "        const buttonEl =\n",
              "          document.querySelector('#df-5c1dbecb-7b0b-4f4c-9e77-a2c68b74de40 button.colab-df-convert');\n",
              "        buttonEl.style.display =\n",
              "          google.colab.kernel.accessAllowed ? 'block' : 'none';\n",
              "\n",
              "        async function convertToInteractive(key) {\n",
              "          const element = document.querySelector('#df-5c1dbecb-7b0b-4f4c-9e77-a2c68b74de40');\n",
              "          const dataTable =\n",
              "            await google.colab.kernel.invokeFunction('convertToInteractive',\n",
              "                                                     [key], {});\n",
              "          if (!dataTable) return;\n",
              "\n",
              "          const docLinkHtml = 'Like what you see? Visit the ' +\n",
              "            '<a target=\"_blank\" href=https://colab.research.google.com/notebooks/data_table.ipynb>data table notebook</a>'\n",
              "            + ' to learn more about interactive tables.';\n",
              "          element.innerHTML = '';\n",
              "          dataTable['output_type'] = 'display_data';\n",
              "          await google.colab.output.renderOutput(dataTable, element);\n",
              "          const docLink = document.createElement('div');\n",
              "          docLink.innerHTML = docLinkHtml;\n",
              "          element.appendChild(docLink);\n",
              "        }\n",
              "      </script>\n",
              "    </div>\n",
              "  </div>\n",
              "  "
            ]
          },
          "metadata": {},
          "execution_count": 81
        }
      ]
    },
    {
      "cell_type": "code",
      "source": [
        ""
      ],
      "metadata": {
        "id": "vsWdsEXxpzCc"
      },
      "execution_count": null,
      "outputs": []
    }
  ]
}